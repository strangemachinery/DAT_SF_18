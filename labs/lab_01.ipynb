{
 "metadata": {
  "name": "",
  "signature": "sha256:8fb7ca0cd1ef13f67da30c8219001268acdb41e39646b4db2d168e1ed0af73b3"
 },
 "nbformat": 3,
 "nbformat_minor": 0,
 "worksheets": [
  {
   "cells": [
    {
     "cell_type": "markdown",
     "metadata": {},
     "source": [
      "## Jupyter (IPython) Has Awesome Shortcuts!!"
     ]
    },
    {
     "cell_type": "code",
     "collapsed": false,
     "input": [
      "# Remember those bash commands??  You can use them here!!\n",
      "# ! alerts the ipython notebook that this will be a bash command\n",
      "!ls data/"
     ],
     "language": "python",
     "metadata": {},
     "outputs": []
    },
    {
     "cell_type": "markdown",
     "metadata": {},
     "source": [
      "### Need help?  Press ESC then h"
     ]
    },
    {
     "cell_type": "code",
     "collapsed": false,
     "input": [],
     "language": "python",
     "metadata": {},
     "outputs": []
    },
    {
     "cell_type": "markdown",
     "metadata": {},
     "source": [
      "# Playing With NY Times Data"
     ]
    },
    {
     "cell_type": "code",
     "collapsed": false,
     "input": [
      "# Lets import the pandas package, call it pd\n",
      "import pandas as pd\n",
      "pd"
     ],
     "language": "python",
     "metadata": {},
     "outputs": []
    },
    {
     "cell_type": "code",
     "collapsed": false,
     "input": [
      "# Using shortcuts, go to the end of read_ and press tab...\n",
      "pd.read_"
     ],
     "language": "python",
     "metadata": {},
     "outputs": []
    },
    {
     "cell_type": "code",
     "collapsed": false,
     "input": [
      "# Using shortcuts, now place the cursor between the (), hold shift and tap tab (try tapping again)\n",
      "pd.read_csv()"
     ],
     "language": "python",
     "metadata": {},
     "outputs": []
    },
    {
     "cell_type": "code",
     "collapsed": false,
     "input": [
      "# Now lets do something fun!!!\n",
      "df = pd.read_csv('data/nytimes.csv')\n",
      "df.head(2)"
     ],
     "language": "python",
     "metadata": {},
     "outputs": []
    },
    {
     "cell_type": "markdown",
     "metadata": {},
     "source": [
      "## Pandas is built around DataFrames\n",
      "### You just created your first one!\n",
      "\n",
      "    - A DataFrame is made up of Series, which you mght call a column\n",
      "    - We will call it a feature"
     ]
    },
    {
     "cell_type": "code",
     "collapsed": false,
     "input": [
      "# This is a Series\n",
      "df.Age\n",
      "\n",
      "# but I only want to see the first 5 records\n",
      "df.Age.head()"
     ],
     "language": "python",
     "metadata": {},
     "outputs": []
    },
    {
     "cell_type": "code",
     "collapsed": false,
     "input": [
      "# Lets aggregate this Series\n",
      "df.Age.sum()"
     ],
     "language": "python",
     "metadata": {},
     "outputs": []
    },
    {
     "cell_type": "code",
     "collapsed": false,
     "input": [
      "# Wow, thats really old?  Always be careful to understand what the data is saying\n",
      "df.Age.mean()"
     ],
     "language": "python",
     "metadata": {},
     "outputs": []
    },
    {
     "cell_type": "markdown",
     "metadata": {},
     "source": [
      "### You can manipulate Series easily"
     ]
    },
    {
     "cell_type": "code",
     "collapsed": false,
     "input": [
      "df['impressions_squared'] = df.Impressions * df.Impressions"
     ],
     "language": "python",
     "metadata": {},
     "outputs": [],
     "prompt_number": 55
    },
    {
     "cell_type": "code",
     "collapsed": false,
     "input": [
      "# Well that wasn't extremely helpful...\n",
      "# how would we get clicks per impression??\n",
      "df.head()\n"
     ],
     "language": "python",
     "metadata": {},
     "outputs": []
    },
    {
     "cell_type": "markdown",
     "metadata": {},
     "source": [
      "### Lets Group and Plot the Data"
     ]
    },
    {
     "cell_type": "code",
     "collapsed": false,
     "input": [
      "# This is a magic command, now plot will be done in the notebook\n",
      "%matplotlib inline  "
     ],
     "language": "python",
     "metadata": {},
     "outputs": []
    },
    {
     "cell_type": "code",
     "collapsed": false,
     "input": [
      "# We can group data and aggregate it\n",
      "grouped_df = df.groupby('Age').sum()"
     ],
     "language": "python",
     "metadata": {},
     "outputs": []
    },
    {
     "cell_type": "code",
     "collapsed": false,
     "input": [
      "# Cool!  Look how many infants are reading the news!! \n",
      "grouped_df.head(2)"
     ],
     "language": "python",
     "metadata": {},
     "outputs": []
    },
    {
     "cell_type": "code",
     "collapsed": false,
     "input": [
      "# Oops, thats no too pretty\n",
      "grouped_df.plot(y='Clicks')"
     ],
     "language": "python",
     "metadata": {},
     "outputs": []
    },
    {
     "cell_type": "code",
     "collapsed": false,
     "input": [
      "# This is how you filter data, lets remove those 0yr olds\n",
      "# NOTE: Dont worry if this logic is confusing, Pandas hacked Python for thise filter!\n",
      "grouped_df[grouped_df.index!=0].head()"
     ],
     "language": "python",
     "metadata": {},
     "outputs": []
    },
    {
     "cell_type": "code",
     "collapsed": false,
     "input": [
      "# However filtering is not done in place\n",
      "# so you don't save the new dataset before you get the right filter\n",
      "grouped_df = grouped_df[grouped_df.index!=0]"
     ],
     "language": "python",
     "metadata": {},
     "outputs": []
    },
    {
     "cell_type": "code",
     "collapsed": false,
     "input": [
      "grouped_df.plot(y='Clicks')"
     ],
     "language": "python",
     "metadata": {},
     "outputs": []
    },
    {
     "cell_type": "markdown",
     "metadata": {},
     "source": [
      "## Try Playing with the data yourself!\n",
      "    - What is the avergage age by gender?\n",
      "    - Can you find the converison rate by Age range? \n",
      "        - A converison is an impresison that caused a click\n",
      "        - Can you plot it??\n",
      "        \n",
      "    - What else can you learn with this data?\n",
      "        - Try using the data in a new way and output your results to data/nyt_output.csv\n",
      "        - HINT: df.to_csv(file_name)    "
     ]
    },
    {
     "cell_type": "code",
     "collapsed": false,
     "input": [
      "df.head()"
     ],
     "language": "python",
     "metadata": {},
     "outputs": []
    },
    {
     "cell_type": "code",
     "collapsed": false,
     "input": [],
     "language": "python",
     "metadata": {},
     "outputs": []
    },
    {
     "cell_type": "code",
     "collapsed": false,
     "input": [],
     "language": "python",
     "metadata": {},
     "outputs": []
    },
    {
     "cell_type": "code",
     "collapsed": false,
     "input": [],
     "language": "python",
     "metadata": {},
     "outputs": []
    }
   ],
   "metadata": {}
  }
 ]
}